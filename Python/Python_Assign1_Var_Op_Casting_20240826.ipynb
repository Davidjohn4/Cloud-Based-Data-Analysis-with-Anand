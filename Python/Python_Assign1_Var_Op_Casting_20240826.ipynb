{
 "cells": [
  {
   "cell_type": "markdown",
   "metadata": {},
   "source": [
    "1 Understanding Variables"
   ]
  },
  {
   "cell_type": "markdown",
   "metadata": {},
   "source": [
    "<h4> a. Define a variable in Python. Provide an example of how to create a variable that\n",
    "stores your name.<h4>"
   ]
  },
  {
   "cell_type": "markdown",
   "metadata": {},
   "source": [
    "A variable is a way to store data in a program so that it can be used later.a variable is created by assigning a value to it using the = sign\n"
   ]
  },
  {
   "cell_type": "markdown",
   "metadata": {},
   "source": [
    "<h4>\n",
    "    b. What is the difference between a variable and a constant? Can we have constants in Python?<h4>"
   ]
  },
  {
   "cell_type": "markdown",
   "metadata": {},
   "source": [
    "Variable :- A variable is a named storage that can hold different values throughout the execution of a program."
   ]
  },
  {
   "cell_type": "markdown",
   "metadata": {},
   "source": [
    "<h4> 2. Working with Different Data Types\n",
    "a. Create variables of the following types in Python:</h4>"
   ]
  },
  {
   "cell_type": "markdown",
   "metadata": {},
   "source": [
    "\n",
    "\n",
    "1) Integer: A whole number without a decimal point. It can be positive or negative.\n",
    "\n",
    "Example: 10\n",
    "\n",
    "2) Float: A number that has a decimal point. It is used to represent fractional values.\n",
    "\n",
    "Example: 3.14\n",
    "\n",
    "3) String: A sequence of characters enclosed in quotes (either single or double). It is used to represent text.\n",
    "\n",
    "Example: \"Hello, world!\"\n",
    "\n",
    "4) Boolean: A data type that can only have two possible values: True or False. It is used in logical operations.\n",
    "\n",
    "Example: True\n"
   ]
  },
  {
   "cell_type": "markdown",
   "metadata": {},
   "source": [
    "<h4> 3. Arithmetic Operators</h4>"
   ]
  },
  {
   "cell_type": "markdown",
   "metadata": {},
   "source": [
    "1)Addition (+): Adds two numbers.\n",
    "\n",
    "Example: 5 + 3 = 8\n",
    "\n",
    "2)Subtraction (-): Subtracts the second number from the first.\n",
    "\n",
    "Example: 10 - 4 = 6\n",
    "\n",
    "3)Multiplication (*): Multiplies two numbers.\n",
    "\n",
    "Example: 7 * 2 = 14\n",
    "\n",
    "4)Division (/): Divides the first number by the second, resulting in a float.\n",
    "\n",
    "Example: 10 / 4 = 2.5\n",
    "\n",
    "5)Floor Division (//): Divides and returns the largest integer less than or equal to the result.\n",
    "\n",
    "Example: 10 // 4 = 2\n",
    "\n",
    "6)Modulus (%): Returns the remainder when the first number is divided by the second.\n",
    "\n",
    "Example: 10 % 3 = 1\n",
    "\n",
    "7)Exponentiation (**): Raises the first number to the power of the second.\n",
    "\n",
    "Example: 2 ** 3 = 8"
   ]
  },
  {
   "cell_type": "code",
   "execution_count": null,
   "metadata": {},
   "outputs": [],
   "source": [
    "b. Write a Python script to calculate the area of a rectangle using variables `length`\n",
    "and `width` with values 5 and 10, respectively. Use the multiplication operator"
   ]
  },
  {
   "cell_type": "code",
   "execution_count": 1,
   "metadata": {},
   "outputs": [
    {
     "data": {
      "text/plain": [
       "50"
      ]
     },
     "execution_count": 1,
     "metadata": {},
     "output_type": "execute_result"
    }
   ],
   "source": [
    "length = 5\n",
    "width = 10\n",
    "\n",
    "a = length * width\n",
    "a\n"
   ]
  },
  {
   "cell_type": "markdown",
   "metadata": {},
   "source": [
    "<h4>4. \n",
    "    Comparision & Logical Operators\n",
    "    \n",
    "    a. Explanation of Comparison Operators:\n",
    "    \n",
    "</h4>\n",
    "\n"
   ]
  },
  {
   "cell_type": "markdown",
   "metadata": {},
   "source": [
    "1)Equal to (==): Checks if two values are equal.\n",
    "\n",
    "Example: 5 == 5 returns True, but 5 == 3 returns False.\n",
    "\n",
    "2)Not equal to (!=): Checks if two values are not equal.\n",
    "\n",
    "Example: 5 != 3 returns True, but 5 != 5 returns False.\n",
    "\n",
    "3)Greater than (>): Checks if the value on the left is greater than the value on the right.\n",
    "\n",
    "Example: 7 > 5 returns True, but 5 > 7 returns False.\n",
    "\n",
    "4)Less than (<): Checks if the value on the left is less than the value on the right.\n",
    "\n",
    "Example: 3 < 4 returns True, but 5 < 3 returns False.\n",
    "\n",
    "5)Greater than or equal to (>=): Checks if the value on the left is greater than or equal to the value on the right.\n",
    "\n",
    "Example: 6 >= 6 returns True, but 5 >= 7 returns False.\n",
    "\n",
    "6)Less than or equal to (<=): Checks if the value on the left is less than or equal to the value on the right.\n",
    "\n",
    "Example: 4 <= 5 returns True, but 6 <= 3 returns False."
   ]
  },
  {
   "cell_type": "markdown",
   "metadata": {},
   "source": [
    "<h4>\n",
    "    5. Type Casting in Python\n",
    "    \n",
    "    a. What is Type Casting?\n",
    "\n",
    "</h4>\n"
   ]
  },
  {
   "cell_type": "markdown",
   "metadata": {},
   "source": [
    "Type casting is the process of converting one data type into another. In Python, it can happen either implicitly or explicitly.\n",
    "\n",
    "Implicit Type Casting: Python automatically converts one data type to another when needed, without any explicit instruction from the programmer. This usually happens when mixing data types in expressions.\n",
    "\n",
    "Example:\n",
    "python\n",
    "Copy code\n",
    "result = 5 + 3.14  # Python implicitly converts 5 (int) to 5.0 (float)\n",
    "print(result)  # Output: 8.14\n",
    "Explicit Type Casting: The programmer manually converts a variable from one data type to another using built-in functions like int(), float(), str(), etc.\n",
    "\n",
    "Example:\n",
    "python\n",
    "Copy code\n",
    "num = 10.8\n",
    "result = int(num)  # Explicitly converts float to int\n",
    "print(result)  # Output: 10\n",
    "b. Python Script for Type Casting\n",
    "python\n",
    "Copy code\n",
    "# 1. Convert a float to an integer\n",
    "float_num = 7.89\n",
    "int_num = int(float_num)\n",
    "print(\"Float to Integer:\", int_num)  # Output: 7\n",
    "\n",
    "# 2. Convert an integer to a string\n",
    "int_value = 42\n",
    "string_value = str(int_value)\n",
    "print(\"Integer to String:\", string_value)  # Output: '42'\n",
    "\n",
    "# 3. Convert a string to a float\n",
    "string_num = \"15.67\"\n",
    "float_value = float(string_num)\n",
    "print(\"String to Float:\", float_value)  # Output: 15.67\n",
    "This script demonstrates type casting from:\n",
    "\n",
    "Float to integer.\n",
    "Integer to string.\n",
    "String to float."
   ]
  },
  {
   "cell_type": "code",
   "execution_count": 18,
   "metadata": {},
   "outputs": [
    {
     "data": {
      "text/plain": [
       "'John'"
      ]
     },
     "execution_count": 18,
     "metadata": {},
     "output_type": "execute_result"
    }
   ],
   "source": [
    "name = \"John\"  \n",
    "name"
   ]
  },
  {
   "cell_type": "markdown",
   "metadata": {},
   "source": [
    "Constant:- A constant is a value that, once assigned, should not be changed throughout the execution of a program."
   ]
  },
  {
   "cell_type": "code",
   "execution_count": 19,
   "metadata": {},
   "outputs": [
    {
     "data": {
      "text/plain": [
       "3.14159"
      ]
     },
     "execution_count": 19,
     "metadata": {},
     "output_type": "execute_result"
    }
   ],
   "source": [
    "PI = 3.14159\n",
    "PI"
   ]
  },
  {
   "cell_type": "markdown",
   "metadata": {},
   "source": [
    "Python does not have built-in constant types like some other programming languages "
   ]
  },
  {
   "cell_type": "code",
   "execution_count": 5,
   "metadata": {},
   "outputs": [
    {
     "name": "stdin",
     "output_type": "stream",
     "text": [
      "Enter the house rent:  5500\n",
      "Enter the food expense:  1000\n"
     ]
    },
    {
     "name": "stdout",
     "output_type": "stream",
     "text": [
      "This Month Expense is 6500\n"
     ]
    }
   ],
   "source": [
    "# 1. Adds the two numbers and prints the result.\n",
    "house_rent = int(input(\"Enter the house rent: \"))\n",
    "food_expense = int(input(\"Enter the food expense: \"))\n",
    "\n",
    "result = house_rent + food_expense\n",
    "print(f'This Month Expense is {result}')\n"
   ]
  },
  {
   "cell_type": "code",
   "execution_count": 7,
   "metadata": {},
   "outputs": [
    {
     "name": "stdin",
     "output_type": "stream",
     "text": [
      "Enter the Budget:  5000\n",
      "Enter the Ebill  1500\n"
     ]
    },
    {
     "name": "stdout",
     "output_type": "stream",
     "text": [
      "This Bal is 3500\n"
     ]
    }
   ],
   "source": [
    "# 2. Subtracts the second number from the first and prints the result.\n",
    "Budget = int(input(\"Enter the Budget: \"))\n",
    "Ebill = int(input(\"Enter the Ebill \"))\n",
    "\n",
    "result = Budget - Ebill\n",
    "print(f'This Bal is {result}')"
   ]
  },
  {
   "cell_type": "code",
   "execution_count": 12,
   "metadata": {},
   "outputs": [
    {
     "name": "stdin",
     "output_type": "stream",
     "text": [
      "Enter the Phone bill:  3500\n",
      "Enter the Days:  3\n"
     ]
    },
    {
     "name": "stdout",
     "output_type": "stream",
     "text": [
      "The Total expense is: 10500\n"
     ]
    }
   ],
   "source": [
    "# 3. Multiplies the two numbers and prints the result.\n",
    "Phone_bill = int(input(\"Enter the Phone bill: \"))\n",
    "Quater = int(input(\"Enter the Days: \"))\n",
    "\n",
    "result = Phone_bill * Quater\n",
    "print(f\"The Total expense is: {result}\")\n"
   ]
  },
  {
   "cell_type": "code",
   "execution_count": 11,
   "metadata": {},
   "outputs": [
    {
     "name": "stdin",
     "output_type": "stream",
     "text": [
      "Enter the house rent:  3560\n",
      "Enter the food expense:  365\n"
     ]
    },
    {
     "name": "stdout",
     "output_type": "stream",
     "text": [
      "The Total expense is: 9.753424657534246\n"
     ]
    }
   ],
   "source": [
    "# 4.Divides the first number by the second and prints the result (handle division by zero\n",
    "\n",
    "Phone_bill = int(input(\"Enter the Phone bill: \"))\n",
    "days = int(input(\"Enter the Days: \"))\n",
    "\n",
    "result = Phone_bill/days\n",
    "\n",
    "print(f\"The Total expense is: {result}\")"
   ]
  },
  {
   "cell_type": "code",
   "execution_count": 15,
   "metadata": {},
   "outputs": [
    {
     "name": "stdin",
     "output_type": "stream",
     "text": [
      "Enter the house rent:  5600\n",
      "Enter the food expense:  40\n"
     ]
    },
    {
     "name": "stdout",
     "output_type": "stream",
     "text": [
      "This Month Expense is 5640 type of result<class 'str'>\n"
     ]
    }
   ],
   "source": [
    "# 5. Converts the sum of the numbers to a string and prints the type of the result.\n",
    "\n",
    "house_rent = int(input(\"Enter the house rent: \"))\n",
    "food_expense = int(input(\"Enter the food expense: \"))\n",
    "\n",
    "result = house_rent + food_expense\n",
    "val = type(str(result))\n",
    "print(f'This Month Expense is {result} type of result {val}')\n"
   ]
  },
  {
   "cell_type": "code",
   "execution_count": null,
   "metadata": {},
   "outputs": [],
   "source": []
  }
 ],
 "metadata": {
  "kernelspec": {
   "display_name": "Python 3",
   "language": "python",
   "name": "python3"
  },
  "language_info": {
   "codemirror_mode": {
    "name": "ipython",
    "version": 3
   },
   "file_extension": ".py",
   "mimetype": "text/x-python",
   "name": "python",
   "nbconvert_exporter": "python",
   "pygments_lexer": "ipython3",
   "version": "3.8.3"
  }
 },
 "nbformat": 4,
 "nbformat_minor": 5
}
